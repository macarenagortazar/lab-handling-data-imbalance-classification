{
 "cells": [
  {
   "cell_type": "markdown",
   "metadata": {},
   "source": [
    "\n",
    "# Lab | Handling Data Imbalance in Classification Models\n",
    "\n",
    "For this lab and in the next lessons we will build a model on customer churn binary classification problem. You will be using `files_for_lab/Customer-Churn.csv` file.\n",
    "\n",
    "### Scenario\n",
    "\n",
    "You are working as an analyst with this internet service provider. You are provided with this historical data about your company's customers and their churn trends. Your task is to build a machine learning model that will help the company identify customers that are more likely to default/churn and thus prevent losses from such customers.\n",
    "\n",
    "### Instructions\n",
    "\n",
    "In this lab, we will first take a look at the degree of imbalance in the data and correct it using the techniques we learned on the class.\n",
    "\n",
    "Here is the list of steps to be followed (building a simple model without balancing the data):\n",
    "\n",
    "- Import the required libraries and modules that you would need.\n",
    "- Read that data into Python and call the dataframe `churnData`.\n",
    "- Check the datatypes of all the columns in the data. You would see that the column `TotalCharges` is object type. Convert this column into numeric type using `pd.to_numeric` function.\n",
    "- Check for null values in the dataframe. Replace the null values.\n",
    "- Use the following features: `tenure`, `SeniorCitizen`, `MonthlyCharges` and `TotalCharges`:\n",
    "  - Scale the features either by using normalizer or a standard scaler.\n",
    "  - Split the data into a training set and a test set.\n",
    "  - Fit a logistic regression model on the training data.\n",
    "  - Check the accuracy on the test data.\n",
    "\n",
    "**Note**: So far we have not balanced the data.\n",
    "\n",
    "Managing imbalance in the dataset\n",
    "\n",
    "- Check for the imbalance.\n",
    "- Use the resampling strategies used in class for upsampling and downsampling to create a balance between the two classes.\n",
    "- Each time fit the model and see how the accuracy of the model is.\n",
    "\n",
    "\n",
    "\n",
    "\n"
   ]
  },
  {
   "cell_type": "markdown",
   "metadata": {},
   "source": [
    "## 1. Import the required libraries and modules that you would need."
   ]
  },
  {
   "cell_type": "markdown",
   "metadata": {
    "id": "2bmrFIe8qeA8"
   },
   "source": [
    "### Loading libraries"
   ]
  },
  {
   "cell_type": "code",
   "execution_count": 235,
   "metadata": {
    "executionInfo": {
     "elapsed": 590,
     "status": "ok",
     "timestamp": 1605647623384,
     "user": {
      "displayName": "Ignacio Soteras",
      "photoUrl": "",
      "userId": "02050793736257155229"
     },
     "user_tz": -60
    },
    "id": "obMU7Q1KqUs1"
   },
   "outputs": [],
   "source": [
    "import pandas as pd\n",
    "import numpy as np\n",
    "pd.set_option('display.max_columns', None)\n",
    "import warnings\n",
    "warnings.filterwarnings('ignore')\n",
    "import statsmodels.api as sm\n",
    "from sklearn.datasets import load_boston\n",
    "import seaborn as sns\n",
    "import matplotlib.pyplot as plt"
   ]
  },
  {
   "cell_type": "code",
   "execution_count": 236,
   "metadata": {},
   "outputs": [
    {
     "data": {
      "text/html": [
       "<div>\n",
       "<style scoped>\n",
       "    .dataframe tbody tr th:only-of-type {\n",
       "        vertical-align: middle;\n",
       "    }\n",
       "\n",
       "    .dataframe tbody tr th {\n",
       "        vertical-align: top;\n",
       "    }\n",
       "\n",
       "    .dataframe thead th {\n",
       "        text-align: right;\n",
       "    }\n",
       "</style>\n",
       "<table border=\"1\" class=\"dataframe\">\n",
       "  <thead>\n",
       "    <tr style=\"text-align: right;\">\n",
       "      <th></th>\n",
       "      <th>gender</th>\n",
       "      <th>seniorcitizen</th>\n",
       "      <th>partner</th>\n",
       "      <th>dependents</th>\n",
       "      <th>tenure</th>\n",
       "      <th>phoneservice</th>\n",
       "      <th>onlinesecurity</th>\n",
       "      <th>onlinebackup</th>\n",
       "      <th>deviceprotection</th>\n",
       "      <th>techsupport</th>\n",
       "      <th>streamingtv</th>\n",
       "      <th>streamingmovies</th>\n",
       "      <th>contract</th>\n",
       "      <th>monthlycharges</th>\n",
       "      <th>totalcharges</th>\n",
       "      <th>churn</th>\n",
       "    </tr>\n",
       "  </thead>\n",
       "  <tbody>\n",
       "    <tr>\n",
       "      <th>0</th>\n",
       "      <td>Female</td>\n",
       "      <td>0</td>\n",
       "      <td>Yes</td>\n",
       "      <td>No</td>\n",
       "      <td>1</td>\n",
       "      <td>No</td>\n",
       "      <td>No</td>\n",
       "      <td>Yes</td>\n",
       "      <td>No</td>\n",
       "      <td>No</td>\n",
       "      <td>No</td>\n",
       "      <td>No</td>\n",
       "      <td>Month-to-month</td>\n",
       "      <td>29.85</td>\n",
       "      <td>29.85</td>\n",
       "      <td>No</td>\n",
       "    </tr>\n",
       "    <tr>\n",
       "      <th>1</th>\n",
       "      <td>Male</td>\n",
       "      <td>0</td>\n",
       "      <td>No</td>\n",
       "      <td>No</td>\n",
       "      <td>34</td>\n",
       "      <td>Yes</td>\n",
       "      <td>Yes</td>\n",
       "      <td>No</td>\n",
       "      <td>Yes</td>\n",
       "      <td>No</td>\n",
       "      <td>No</td>\n",
       "      <td>No</td>\n",
       "      <td>One year</td>\n",
       "      <td>56.95</td>\n",
       "      <td>1889.5</td>\n",
       "      <td>No</td>\n",
       "    </tr>\n",
       "    <tr>\n",
       "      <th>2</th>\n",
       "      <td>Male</td>\n",
       "      <td>0</td>\n",
       "      <td>No</td>\n",
       "      <td>No</td>\n",
       "      <td>2</td>\n",
       "      <td>Yes</td>\n",
       "      <td>Yes</td>\n",
       "      <td>Yes</td>\n",
       "      <td>No</td>\n",
       "      <td>No</td>\n",
       "      <td>No</td>\n",
       "      <td>No</td>\n",
       "      <td>Month-to-month</td>\n",
       "      <td>53.85</td>\n",
       "      <td>108.15</td>\n",
       "      <td>Yes</td>\n",
       "    </tr>\n",
       "    <tr>\n",
       "      <th>3</th>\n",
       "      <td>Male</td>\n",
       "      <td>0</td>\n",
       "      <td>No</td>\n",
       "      <td>No</td>\n",
       "      <td>45</td>\n",
       "      <td>No</td>\n",
       "      <td>Yes</td>\n",
       "      <td>No</td>\n",
       "      <td>Yes</td>\n",
       "      <td>Yes</td>\n",
       "      <td>No</td>\n",
       "      <td>No</td>\n",
       "      <td>One year</td>\n",
       "      <td>42.30</td>\n",
       "      <td>1840.75</td>\n",
       "      <td>No</td>\n",
       "    </tr>\n",
       "    <tr>\n",
       "      <th>4</th>\n",
       "      <td>Female</td>\n",
       "      <td>0</td>\n",
       "      <td>No</td>\n",
       "      <td>No</td>\n",
       "      <td>2</td>\n",
       "      <td>Yes</td>\n",
       "      <td>No</td>\n",
       "      <td>No</td>\n",
       "      <td>No</td>\n",
       "      <td>No</td>\n",
       "      <td>No</td>\n",
       "      <td>No</td>\n",
       "      <td>Month-to-month</td>\n",
       "      <td>70.70</td>\n",
       "      <td>151.65</td>\n",
       "      <td>Yes</td>\n",
       "    </tr>\n",
       "  </tbody>\n",
       "</table>\n",
       "</div>"
      ],
      "text/plain": [
       "   gender  seniorcitizen partner dependents  tenure phoneservice  \\\n",
       "0  Female              0     Yes         No       1           No   \n",
       "1    Male              0      No         No      34          Yes   \n",
       "2    Male              0      No         No       2          Yes   \n",
       "3    Male              0      No         No      45           No   \n",
       "4  Female              0      No         No       2          Yes   \n",
       "\n",
       "  onlinesecurity onlinebackup deviceprotection techsupport streamingtv  \\\n",
       "0             No          Yes               No          No          No   \n",
       "1            Yes           No              Yes          No          No   \n",
       "2            Yes          Yes               No          No          No   \n",
       "3            Yes           No              Yes         Yes          No   \n",
       "4             No           No               No          No          No   \n",
       "\n",
       "  streamingmovies        contract  monthlycharges totalcharges churn  \n",
       "0              No  Month-to-month           29.85        29.85    No  \n",
       "1              No        One year           56.95       1889.5    No  \n",
       "2              No  Month-to-month           53.85       108.15   Yes  \n",
       "3              No        One year           42.30      1840.75    No  \n",
       "4              No  Month-to-month           70.70       151.65   Yes  "
      ]
     },
     "execution_count": 236,
     "metadata": {},
     "output_type": "execute_result"
    }
   ],
   "source": [
    "churnData=pd.read_csv(\"Customer-Churn.csv\")\n",
    "churnData.columns=map(str.lower, churnData.columns)\n",
    "churnData.head()"
   ]
  },
  {
   "cell_type": "code",
   "execution_count": 237,
   "metadata": {},
   "outputs": [
    {
     "data": {
      "text/plain": [
       "Index(['gender', 'seniorcitizen', 'partner', 'dependents', 'tenure',\n",
       "       'phoneservice', 'onlinesecurity', 'onlinebackup', 'deviceprotection',\n",
       "       'techsupport', 'streamingtv', 'streamingmovies', 'contract',\n",
       "       'monthlycharges', 'totalcharges', 'churn'],\n",
       "      dtype='object')"
      ]
     },
     "execution_count": 237,
     "metadata": {},
     "output_type": "execute_result"
    }
   ],
   "source": [
    "churnData.columns"
   ]
  },
  {
   "cell_type": "code",
   "execution_count": 238,
   "metadata": {},
   "outputs": [
    {
     "data": {
      "text/html": [
       "<div>\n",
       "<style scoped>\n",
       "    .dataframe tbody tr th:only-of-type {\n",
       "        vertical-align: middle;\n",
       "    }\n",
       "\n",
       "    .dataframe tbody tr th {\n",
       "        vertical-align: top;\n",
       "    }\n",
       "\n",
       "    .dataframe thead th {\n",
       "        text-align: right;\n",
       "    }\n",
       "</style>\n",
       "<table border=\"1\" class=\"dataframe\">\n",
       "  <thead>\n",
       "    <tr style=\"text-align: right;\">\n",
       "      <th></th>\n",
       "      <th>gender</th>\n",
       "      <th>senior citizen</th>\n",
       "      <th>partner</th>\n",
       "      <th>dependents</th>\n",
       "      <th>tenure</th>\n",
       "      <th>phone service</th>\n",
       "      <th>online security</th>\n",
       "      <th>online backup</th>\n",
       "      <th>device protection</th>\n",
       "      <th>tech support</th>\n",
       "      <th>streaming tv</th>\n",
       "      <th>streaming movies</th>\n",
       "      <th>contract</th>\n",
       "      <th>monthly charges</th>\n",
       "      <th>total charges</th>\n",
       "      <th>churn</th>\n",
       "    </tr>\n",
       "  </thead>\n",
       "  <tbody>\n",
       "    <tr>\n",
       "      <th>0</th>\n",
       "      <td>Female</td>\n",
       "      <td>0</td>\n",
       "      <td>Yes</td>\n",
       "      <td>No</td>\n",
       "      <td>1</td>\n",
       "      <td>No</td>\n",
       "      <td>No</td>\n",
       "      <td>Yes</td>\n",
       "      <td>No</td>\n",
       "      <td>No</td>\n",
       "      <td>No</td>\n",
       "      <td>No</td>\n",
       "      <td>Month-to-month</td>\n",
       "      <td>29.85</td>\n",
       "      <td>29.85</td>\n",
       "      <td>No</td>\n",
       "    </tr>\n",
       "    <tr>\n",
       "      <th>1</th>\n",
       "      <td>Male</td>\n",
       "      <td>0</td>\n",
       "      <td>No</td>\n",
       "      <td>No</td>\n",
       "      <td>34</td>\n",
       "      <td>Yes</td>\n",
       "      <td>Yes</td>\n",
       "      <td>No</td>\n",
       "      <td>Yes</td>\n",
       "      <td>No</td>\n",
       "      <td>No</td>\n",
       "      <td>No</td>\n",
       "      <td>One year</td>\n",
       "      <td>56.95</td>\n",
       "      <td>1889.5</td>\n",
       "      <td>No</td>\n",
       "    </tr>\n",
       "    <tr>\n",
       "      <th>2</th>\n",
       "      <td>Male</td>\n",
       "      <td>0</td>\n",
       "      <td>No</td>\n",
       "      <td>No</td>\n",
       "      <td>2</td>\n",
       "      <td>Yes</td>\n",
       "      <td>Yes</td>\n",
       "      <td>Yes</td>\n",
       "      <td>No</td>\n",
       "      <td>No</td>\n",
       "      <td>No</td>\n",
       "      <td>No</td>\n",
       "      <td>Month-to-month</td>\n",
       "      <td>53.85</td>\n",
       "      <td>108.15</td>\n",
       "      <td>Yes</td>\n",
       "    </tr>\n",
       "    <tr>\n",
       "      <th>3</th>\n",
       "      <td>Male</td>\n",
       "      <td>0</td>\n",
       "      <td>No</td>\n",
       "      <td>No</td>\n",
       "      <td>45</td>\n",
       "      <td>No</td>\n",
       "      <td>Yes</td>\n",
       "      <td>No</td>\n",
       "      <td>Yes</td>\n",
       "      <td>Yes</td>\n",
       "      <td>No</td>\n",
       "      <td>No</td>\n",
       "      <td>One year</td>\n",
       "      <td>42.30</td>\n",
       "      <td>1840.75</td>\n",
       "      <td>No</td>\n",
       "    </tr>\n",
       "    <tr>\n",
       "      <th>4</th>\n",
       "      <td>Female</td>\n",
       "      <td>0</td>\n",
       "      <td>No</td>\n",
       "      <td>No</td>\n",
       "      <td>2</td>\n",
       "      <td>Yes</td>\n",
       "      <td>No</td>\n",
       "      <td>No</td>\n",
       "      <td>No</td>\n",
       "      <td>No</td>\n",
       "      <td>No</td>\n",
       "      <td>No</td>\n",
       "      <td>Month-to-month</td>\n",
       "      <td>70.70</td>\n",
       "      <td>151.65</td>\n",
       "      <td>Yes</td>\n",
       "    </tr>\n",
       "  </tbody>\n",
       "</table>\n",
       "</div>"
      ],
      "text/plain": [
       "   gender  senior citizen partner dependents  tenure phone service  \\\n",
       "0  Female               0     Yes         No       1            No   \n",
       "1    Male               0      No         No      34           Yes   \n",
       "2    Male               0      No         No       2           Yes   \n",
       "3    Male               0      No         No      45            No   \n",
       "4  Female               0      No         No       2           Yes   \n",
       "\n",
       "  online security online backup device protection tech support streaming tv  \\\n",
       "0              No           Yes                No           No           No   \n",
       "1             Yes            No               Yes           No           No   \n",
       "2             Yes           Yes                No           No           No   \n",
       "3             Yes            No               Yes          Yes           No   \n",
       "4              No            No                No           No           No   \n",
       "\n",
       "  streaming movies        contract  monthly charges total charges churn  \n",
       "0               No  Month-to-month            29.85         29.85    No  \n",
       "1               No        One year            56.95        1889.5    No  \n",
       "2               No  Month-to-month            53.85        108.15   Yes  \n",
       "3               No        One year            42.30       1840.75    No  \n",
       "4               No  Month-to-month            70.70        151.65   Yes  "
      ]
     },
     "execution_count": 238,
     "metadata": {},
     "output_type": "execute_result"
    }
   ],
   "source": [
    "churnData.columns=['gender', 'senior citizen', 'partner', 'dependents', 'tenure',\n",
    "       'phone service', 'online security', 'online backup', 'device protection',\n",
    "       'tech support', 'streaming tv', 'streaming movies', 'contract',\n",
    "       'monthly charges', 'total charges', 'churn']\n",
    "churnData.head()"
   ]
  },
  {
   "cell_type": "markdown",
   "metadata": {},
   "source": [
    "### 2. Check the datatypes of all the columns in the data. You would see that the column TotalCharges is object type. Convert this column into numeric type using pd.to_numeric function."
   ]
  },
  {
   "cell_type": "code",
   "execution_count": 239,
   "metadata": {},
   "outputs": [
    {
     "name": "stdout",
     "output_type": "stream",
     "text": [
      "<class 'pandas.core.frame.DataFrame'>\n",
      "RangeIndex: 7043 entries, 0 to 7042\n",
      "Data columns (total 16 columns):\n",
      " #   Column             Non-Null Count  Dtype  \n",
      "---  ------             --------------  -----  \n",
      " 0   gender             7043 non-null   object \n",
      " 1   senior citizen     7043 non-null   int64  \n",
      " 2   partner            7043 non-null   object \n",
      " 3   dependents         7043 non-null   object \n",
      " 4   tenure             7043 non-null   int64  \n",
      " 5   phone service      7043 non-null   object \n",
      " 6   online security    7043 non-null   object \n",
      " 7   online backup      7043 non-null   object \n",
      " 8   device protection  7043 non-null   object \n",
      " 9   tech support       7043 non-null   object \n",
      " 10  streaming tv       7043 non-null   object \n",
      " 11  streaming movies   7043 non-null   object \n",
      " 12  contract           7043 non-null   object \n",
      " 13  monthly charges    7043 non-null   float64\n",
      " 14  total charges      7043 non-null   object \n",
      " 15  churn              7043 non-null   object \n",
      "dtypes: float64(1), int64(2), object(13)\n",
      "memory usage: 880.5+ KB\n"
     ]
    }
   ],
   "source": [
    "churnData.info()"
   ]
  },
  {
   "cell_type": "code",
   "execution_count": 240,
   "metadata": {},
   "outputs": [],
   "source": [
    "churnData[\"total charges\"]=pd.to_numeric(churnData[\"total charges\"],errors='coerce')"
   ]
  },
  {
   "cell_type": "code",
   "execution_count": 241,
   "metadata": {},
   "outputs": [
    {
     "name": "stdout",
     "output_type": "stream",
     "text": [
      "<class 'pandas.core.frame.DataFrame'>\n",
      "RangeIndex: 7043 entries, 0 to 7042\n",
      "Data columns (total 16 columns):\n",
      " #   Column             Non-Null Count  Dtype  \n",
      "---  ------             --------------  -----  \n",
      " 0   gender             7043 non-null   object \n",
      " 1   senior citizen     7043 non-null   int64  \n",
      " 2   partner            7043 non-null   object \n",
      " 3   dependents         7043 non-null   object \n",
      " 4   tenure             7043 non-null   int64  \n",
      " 5   phone service      7043 non-null   object \n",
      " 6   online security    7043 non-null   object \n",
      " 7   online backup      7043 non-null   object \n",
      " 8   device protection  7043 non-null   object \n",
      " 9   tech support       7043 non-null   object \n",
      " 10  streaming tv       7043 non-null   object \n",
      " 11  streaming movies   7043 non-null   object \n",
      " 12  contract           7043 non-null   object \n",
      " 13  monthly charges    7043 non-null   float64\n",
      " 14  total charges      7032 non-null   float64\n",
      " 15  churn              7043 non-null   object \n",
      "dtypes: float64(2), int64(2), object(12)\n",
      "memory usage: 880.5+ KB\n"
     ]
    }
   ],
   "source": [
    "churnData.info()"
   ]
  },
  {
   "cell_type": "markdown",
   "metadata": {},
   "source": [
    "### 3. Check for null values in the dataframe. Replace the null values."
   ]
  },
  {
   "cell_type": "code",
   "execution_count": 242,
   "metadata": {},
   "outputs": [
    {
     "data": {
      "text/html": [
       "<div>\n",
       "<style scoped>\n",
       "    .dataframe tbody tr th:only-of-type {\n",
       "        vertical-align: middle;\n",
       "    }\n",
       "\n",
       "    .dataframe tbody tr th {\n",
       "        vertical-align: top;\n",
       "    }\n",
       "\n",
       "    .dataframe thead th {\n",
       "        text-align: right;\n",
       "    }\n",
       "</style>\n",
       "<table border=\"1\" class=\"dataframe\">\n",
       "  <thead>\n",
       "    <tr style=\"text-align: right;\">\n",
       "      <th></th>\n",
       "      <th>gender</th>\n",
       "      <th>senior citizen</th>\n",
       "      <th>partner</th>\n",
       "      <th>dependents</th>\n",
       "      <th>tenure</th>\n",
       "      <th>phone service</th>\n",
       "      <th>online security</th>\n",
       "      <th>online backup</th>\n",
       "      <th>device protection</th>\n",
       "      <th>tech support</th>\n",
       "      <th>streaming tv</th>\n",
       "      <th>streaming movies</th>\n",
       "      <th>contract</th>\n",
       "      <th>monthly charges</th>\n",
       "      <th>total charges</th>\n",
       "      <th>churn</th>\n",
       "    </tr>\n",
       "  </thead>\n",
       "  <tbody>\n",
       "    <tr>\n",
       "      <th>0</th>\n",
       "      <td>Female</td>\n",
       "      <td>0</td>\n",
       "      <td>Yes</td>\n",
       "      <td>No</td>\n",
       "      <td>1</td>\n",
       "      <td>No</td>\n",
       "      <td>No</td>\n",
       "      <td>Yes</td>\n",
       "      <td>No</td>\n",
       "      <td>No</td>\n",
       "      <td>No</td>\n",
       "      <td>No</td>\n",
       "      <td>Month-to-month</td>\n",
       "      <td>29.85</td>\n",
       "      <td>29.85</td>\n",
       "      <td>No</td>\n",
       "    </tr>\n",
       "    <tr>\n",
       "      <th>1</th>\n",
       "      <td>Male</td>\n",
       "      <td>0</td>\n",
       "      <td>No</td>\n",
       "      <td>No</td>\n",
       "      <td>34</td>\n",
       "      <td>Yes</td>\n",
       "      <td>Yes</td>\n",
       "      <td>No</td>\n",
       "      <td>Yes</td>\n",
       "      <td>No</td>\n",
       "      <td>No</td>\n",
       "      <td>No</td>\n",
       "      <td>One year</td>\n",
       "      <td>56.95</td>\n",
       "      <td>1889.50</td>\n",
       "      <td>No</td>\n",
       "    </tr>\n",
       "    <tr>\n",
       "      <th>2</th>\n",
       "      <td>Male</td>\n",
       "      <td>0</td>\n",
       "      <td>No</td>\n",
       "      <td>No</td>\n",
       "      <td>2</td>\n",
       "      <td>Yes</td>\n",
       "      <td>Yes</td>\n",
       "      <td>Yes</td>\n",
       "      <td>No</td>\n",
       "      <td>No</td>\n",
       "      <td>No</td>\n",
       "      <td>No</td>\n",
       "      <td>Month-to-month</td>\n",
       "      <td>53.85</td>\n",
       "      <td>108.15</td>\n",
       "      <td>Yes</td>\n",
       "    </tr>\n",
       "    <tr>\n",
       "      <th>3</th>\n",
       "      <td>Male</td>\n",
       "      <td>0</td>\n",
       "      <td>No</td>\n",
       "      <td>No</td>\n",
       "      <td>45</td>\n",
       "      <td>No</td>\n",
       "      <td>Yes</td>\n",
       "      <td>No</td>\n",
       "      <td>Yes</td>\n",
       "      <td>Yes</td>\n",
       "      <td>No</td>\n",
       "      <td>No</td>\n",
       "      <td>One year</td>\n",
       "      <td>42.30</td>\n",
       "      <td>1840.75</td>\n",
       "      <td>No</td>\n",
       "    </tr>\n",
       "    <tr>\n",
       "      <th>4</th>\n",
       "      <td>Female</td>\n",
       "      <td>0</td>\n",
       "      <td>No</td>\n",
       "      <td>No</td>\n",
       "      <td>2</td>\n",
       "      <td>Yes</td>\n",
       "      <td>No</td>\n",
       "      <td>No</td>\n",
       "      <td>No</td>\n",
       "      <td>No</td>\n",
       "      <td>No</td>\n",
       "      <td>No</td>\n",
       "      <td>Month-to-month</td>\n",
       "      <td>70.70</td>\n",
       "      <td>151.65</td>\n",
       "      <td>Yes</td>\n",
       "    </tr>\n",
       "    <tr>\n",
       "      <th>...</th>\n",
       "      <td>...</td>\n",
       "      <td>...</td>\n",
       "      <td>...</td>\n",
       "      <td>...</td>\n",
       "      <td>...</td>\n",
       "      <td>...</td>\n",
       "      <td>...</td>\n",
       "      <td>...</td>\n",
       "      <td>...</td>\n",
       "      <td>...</td>\n",
       "      <td>...</td>\n",
       "      <td>...</td>\n",
       "      <td>...</td>\n",
       "      <td>...</td>\n",
       "      <td>...</td>\n",
       "      <td>...</td>\n",
       "    </tr>\n",
       "    <tr>\n",
       "      <th>7038</th>\n",
       "      <td>Male</td>\n",
       "      <td>0</td>\n",
       "      <td>Yes</td>\n",
       "      <td>Yes</td>\n",
       "      <td>24</td>\n",
       "      <td>Yes</td>\n",
       "      <td>Yes</td>\n",
       "      <td>No</td>\n",
       "      <td>Yes</td>\n",
       "      <td>Yes</td>\n",
       "      <td>Yes</td>\n",
       "      <td>Yes</td>\n",
       "      <td>One year</td>\n",
       "      <td>84.80</td>\n",
       "      <td>1990.50</td>\n",
       "      <td>No</td>\n",
       "    </tr>\n",
       "    <tr>\n",
       "      <th>7039</th>\n",
       "      <td>Female</td>\n",
       "      <td>0</td>\n",
       "      <td>Yes</td>\n",
       "      <td>Yes</td>\n",
       "      <td>72</td>\n",
       "      <td>Yes</td>\n",
       "      <td>No</td>\n",
       "      <td>Yes</td>\n",
       "      <td>Yes</td>\n",
       "      <td>No</td>\n",
       "      <td>Yes</td>\n",
       "      <td>Yes</td>\n",
       "      <td>One year</td>\n",
       "      <td>103.20</td>\n",
       "      <td>7362.90</td>\n",
       "      <td>No</td>\n",
       "    </tr>\n",
       "    <tr>\n",
       "      <th>7040</th>\n",
       "      <td>Female</td>\n",
       "      <td>0</td>\n",
       "      <td>Yes</td>\n",
       "      <td>Yes</td>\n",
       "      <td>11</td>\n",
       "      <td>No</td>\n",
       "      <td>Yes</td>\n",
       "      <td>No</td>\n",
       "      <td>No</td>\n",
       "      <td>No</td>\n",
       "      <td>No</td>\n",
       "      <td>No</td>\n",
       "      <td>Month-to-month</td>\n",
       "      <td>29.60</td>\n",
       "      <td>346.45</td>\n",
       "      <td>No</td>\n",
       "    </tr>\n",
       "    <tr>\n",
       "      <th>7041</th>\n",
       "      <td>Male</td>\n",
       "      <td>1</td>\n",
       "      <td>Yes</td>\n",
       "      <td>No</td>\n",
       "      <td>4</td>\n",
       "      <td>Yes</td>\n",
       "      <td>No</td>\n",
       "      <td>No</td>\n",
       "      <td>No</td>\n",
       "      <td>No</td>\n",
       "      <td>No</td>\n",
       "      <td>No</td>\n",
       "      <td>Month-to-month</td>\n",
       "      <td>74.40</td>\n",
       "      <td>306.60</td>\n",
       "      <td>Yes</td>\n",
       "    </tr>\n",
       "    <tr>\n",
       "      <th>7042</th>\n",
       "      <td>Male</td>\n",
       "      <td>0</td>\n",
       "      <td>No</td>\n",
       "      <td>No</td>\n",
       "      <td>66</td>\n",
       "      <td>Yes</td>\n",
       "      <td>Yes</td>\n",
       "      <td>No</td>\n",
       "      <td>Yes</td>\n",
       "      <td>Yes</td>\n",
       "      <td>Yes</td>\n",
       "      <td>Yes</td>\n",
       "      <td>Two year</td>\n",
       "      <td>105.65</td>\n",
       "      <td>6844.50</td>\n",
       "      <td>No</td>\n",
       "    </tr>\n",
       "  </tbody>\n",
       "</table>\n",
       "<p>7043 rows × 16 columns</p>\n",
       "</div>"
      ],
      "text/plain": [
       "      gender  senior citizen partner dependents  tenure phone service  \\\n",
       "0     Female               0     Yes         No       1            No   \n",
       "1       Male               0      No         No      34           Yes   \n",
       "2       Male               0      No         No       2           Yes   \n",
       "3       Male               0      No         No      45            No   \n",
       "4     Female               0      No         No       2           Yes   \n",
       "...      ...             ...     ...        ...     ...           ...   \n",
       "7038    Male               0     Yes        Yes      24           Yes   \n",
       "7039  Female               0     Yes        Yes      72           Yes   \n",
       "7040  Female               0     Yes        Yes      11            No   \n",
       "7041    Male               1     Yes         No       4           Yes   \n",
       "7042    Male               0      No         No      66           Yes   \n",
       "\n",
       "     online security online backup device protection tech support  \\\n",
       "0                 No           Yes                No           No   \n",
       "1                Yes            No               Yes           No   \n",
       "2                Yes           Yes                No           No   \n",
       "3                Yes            No               Yes          Yes   \n",
       "4                 No            No                No           No   \n",
       "...              ...           ...               ...          ...   \n",
       "7038             Yes            No               Yes          Yes   \n",
       "7039              No           Yes               Yes           No   \n",
       "7040             Yes            No                No           No   \n",
       "7041              No            No                No           No   \n",
       "7042             Yes            No               Yes          Yes   \n",
       "\n",
       "     streaming tv streaming movies        contract  monthly charges  \\\n",
       "0              No               No  Month-to-month            29.85   \n",
       "1              No               No        One year            56.95   \n",
       "2              No               No  Month-to-month            53.85   \n",
       "3              No               No        One year            42.30   \n",
       "4              No               No  Month-to-month            70.70   \n",
       "...           ...              ...             ...              ...   \n",
       "7038          Yes              Yes        One year            84.80   \n",
       "7039          Yes              Yes        One year           103.20   \n",
       "7040           No               No  Month-to-month            29.60   \n",
       "7041           No               No  Month-to-month            74.40   \n",
       "7042          Yes              Yes        Two year           105.65   \n",
       "\n",
       "      total charges churn  \n",
       "0             29.85    No  \n",
       "1           1889.50    No  \n",
       "2            108.15   Yes  \n",
       "3           1840.75    No  \n",
       "4            151.65   Yes  \n",
       "...             ...   ...  \n",
       "7038        1990.50    No  \n",
       "7039        7362.90    No  \n",
       "7040         346.45    No  \n",
       "7041         306.60   Yes  \n",
       "7042        6844.50    No  \n",
       "\n",
       "[7043 rows x 16 columns]"
      ]
     },
     "execution_count": 242,
     "metadata": {},
     "output_type": "execute_result"
    }
   ],
   "source": [
    "churnData.replace(\" \",np.nan)"
   ]
  },
  {
   "cell_type": "code",
   "execution_count": 243,
   "metadata": {},
   "outputs": [
    {
     "data": {
      "text/html": [
       "<div>\n",
       "<style scoped>\n",
       "    .dataframe tbody tr th:only-of-type {\n",
       "        vertical-align: middle;\n",
       "    }\n",
       "\n",
       "    .dataframe tbody tr th {\n",
       "        vertical-align: top;\n",
       "    }\n",
       "\n",
       "    .dataframe thead th {\n",
       "        text-align: right;\n",
       "    }\n",
       "</style>\n",
       "<table border=\"1\" class=\"dataframe\">\n",
       "  <thead>\n",
       "    <tr style=\"text-align: right;\">\n",
       "      <th></th>\n",
       "      <th>nber_nulls</th>\n",
       "    </tr>\n",
       "  </thead>\n",
       "  <tbody>\n",
       "    <tr>\n",
       "      <th>total charges</th>\n",
       "      <td>11</td>\n",
       "    </tr>\n",
       "  </tbody>\n",
       "</table>\n",
       "</div>"
      ],
      "text/plain": [
       "               nber_nulls\n",
       "total charges          11"
      ]
     },
     "execution_count": 243,
     "metadata": {},
     "output_type": "execute_result"
    }
   ],
   "source": [
    "null_values=pd.DataFrame(churnData.isnull().sum())\n",
    "null_values.columns=[\"nber_nulls\"]\n",
    "null_values[null_values[\"nber_nulls\"]>0].head(90)"
   ]
  },
  {
   "cell_type": "code",
   "execution_count": 244,
   "metadata": {},
   "outputs": [
    {
     "data": {
      "text/plain": [
       "<matplotlib.axes._subplots.AxesSubplot at 0x7f97685e3340>"
      ]
     },
     "execution_count": 244,
     "metadata": {},
     "output_type": "execute_result"
    },
    {
     "data": {
      "image/png": "[encoded data removed]",
      "text/plain": [
       "<Figure size 432x288 with 1 Axes>"
      ]
     },
     "metadata": {
      "needs_background": "light"
     },
     "output_type": "display_data"
    }
   ],
   "source": [
    "sns.distplot(churnData[\"total charges\"])"
   ]
  },
  {
   "cell_type": "code",
   "execution_count": 245,
   "metadata": {},
   "outputs": [],
   "source": [
    "churnData[\"total charges\"]=churnData[\"total charges\"].fillna(np.mean(churnData[\"total charges\"]))"
   ]
  },
  {
   "cell_type": "code",
   "execution_count": 246,
   "metadata": {},
   "outputs": [
    {
     "data": {
      "text/plain": [
       "<matplotlib.axes._subplots.AxesSubplot at 0x7f9767972ee0>"
      ]
     },
     "execution_count": 246,
     "metadata": {},
     "output_type": "execute_result"
    },
    {
     "data": {
      "image/png": "[encoded data removed]",
      "text/plain": [
       "<Figure size 432x288 with 1 Axes>"
      ]
     },
     "metadata": {
      "needs_background": "light"
     },
     "output_type": "display_data"
    }
   ],
   "source": [
    "sns.distplot(churnData[\"total charges\"])"
   ]
  },
  {
   "cell_type": "markdown",
   "metadata": {},
   "source": [
    "### 3. Use the following features: tenure, SeniorCitizen, MonthlyCharges and TotalCharges:\n",
    "- Scale the features either by using normalizer or a standard scaler.\n",
    "- Split the data into a training set and a test set.\n",
    "- Fit a logistic regression model on the training data.\n",
    "- Check the accuracy on the test data."
   ]
  },
  {
   "cell_type": "code",
   "execution_count": 247,
   "metadata": {},
   "outputs": [
    {
     "data": {
      "text/plain": [
       "Index(['gender', 'senior citizen', 'partner', 'dependents', 'tenure',\n",
       "       'phone service', 'online security', 'online backup',\n",
       "       'device protection', 'tech support', 'streaming tv', 'streaming movies',\n",
       "       'contract', 'monthly charges', 'total charges', 'churn'],\n",
       "      dtype='object')"
      ]
     },
     "execution_count": 247,
     "metadata": {},
     "output_type": "execute_result"
    }
   ],
   "source": [
    "churnData.columns"
   ]
  },
  {
   "cell_type": "code",
   "execution_count": 248,
   "metadata": {},
   "outputs": [],
   "source": [
    "x_num=churnData.select_dtypes(np.number)"
   ]
  },
  {
   "cell_type": "code",
   "execution_count": 249,
   "metadata": {},
   "outputs": [],
   "source": [
    "x_cat=churnData.select_dtypes(object).drop(\"churn\",axis=1)"
   ]
  },
  {
   "cell_type": "code",
   "execution_count": 250,
   "metadata": {},
   "outputs": [],
   "source": [
    "y=churnData.churn"
   ]
  },
  {
   "cell_type": "markdown",
   "metadata": {},
   "source": [
    "#### CATEGORICAL"
   ]
  },
  {
   "cell_type": "code",
   "execution_count": 251,
   "metadata": {},
   "outputs": [
    {
     "data": {
      "text/html": [
       "<div>\n",
       "<style scoped>\n",
       "    .dataframe tbody tr th:only-of-type {\n",
       "        vertical-align: middle;\n",
       "    }\n",
       "\n",
       "    .dataframe tbody tr th {\n",
       "        vertical-align: top;\n",
       "    }\n",
       "\n",
       "    .dataframe thead th {\n",
       "        text-align: right;\n",
       "    }\n",
       "</style>\n",
       "<table border=\"1\" class=\"dataframe\">\n",
       "  <thead>\n",
       "    <tr style=\"text-align: right;\">\n",
       "      <th></th>\n",
       "      <th>gender_Female</th>\n",
       "      <th>gender_Male</th>\n",
       "      <th>partner_No</th>\n",
       "      <th>partner_Yes</th>\n",
       "      <th>dependents_No</th>\n",
       "      <th>dependents_Yes</th>\n",
       "      <th>phone service_No</th>\n",
       "      <th>phone service_Yes</th>\n",
       "      <th>online security_No</th>\n",
       "      <th>online security_No internet service</th>\n",
       "      <th>online security_Yes</th>\n",
       "      <th>online backup_No</th>\n",
       "      <th>online backup_No internet service</th>\n",
       "      <th>online backup_Yes</th>\n",
       "      <th>device protection_No</th>\n",
       "      <th>device protection_No internet service</th>\n",
       "      <th>device protection_Yes</th>\n",
       "      <th>tech support_No</th>\n",
       "      <th>tech support_No internet service</th>\n",
       "      <th>tech support_Yes</th>\n",
       "      <th>streaming tv_No</th>\n",
       "      <th>streaming tv_No internet service</th>\n",
       "      <th>streaming tv_Yes</th>\n",
       "      <th>streaming movies_No</th>\n",
       "      <th>streaming movies_No internet service</th>\n",
       "      <th>streaming movies_Yes</th>\n",
       "      <th>contract_Month-to-month</th>\n",
       "      <th>contract_One year</th>\n",
       "      <th>contract_Two year</th>\n",
       "    </tr>\n",
       "  </thead>\n",
       "  <tbody>\n",
       "    <tr>\n",
       "      <th>0</th>\n",
       "      <td>1</td>\n",
       "      <td>0</td>\n",
       "      <td>0</td>\n",
       "      <td>1</td>\n",
       "      <td>1</td>\n",
       "      <td>0</td>\n",
       "      <td>1</td>\n",
       "      <td>0</td>\n",
       "      <td>1</td>\n",
       "      <td>0</td>\n",
       "      <td>0</td>\n",
       "      <td>0</td>\n",
       "      <td>0</td>\n",
       "      <td>1</td>\n",
       "      <td>1</td>\n",
       "      <td>0</td>\n",
       "      <td>0</td>\n",
       "      <td>1</td>\n",
       "      <td>0</td>\n",
       "      <td>0</td>\n",
       "      <td>1</td>\n",
       "      <td>0</td>\n",
       "      <td>0</td>\n",
       "      <td>1</td>\n",
       "      <td>0</td>\n",
       "      <td>0</td>\n",
       "      <td>1</td>\n",
       "      <td>0</td>\n",
       "      <td>0</td>\n",
       "    </tr>\n",
       "    <tr>\n",
       "      <th>1</th>\n",
       "      <td>0</td>\n",
       "      <td>1</td>\n",
       "      <td>1</td>\n",
       "      <td>0</td>\n",
       "      <td>1</td>\n",
       "      <td>0</td>\n",
       "      <td>0</td>\n",
       "      <td>1</td>\n",
       "      <td>0</td>\n",
       "      <td>0</td>\n",
       "      <td>1</td>\n",
       "      <td>1</td>\n",
       "      <td>0</td>\n",
       "      <td>0</td>\n",
       "      <td>0</td>\n",
       "      <td>0</td>\n",
       "      <td>1</td>\n",
       "      <td>1</td>\n",
       "      <td>0</td>\n",
       "      <td>0</td>\n",
       "      <td>1</td>\n",
       "      <td>0</td>\n",
       "      <td>0</td>\n",
       "      <td>1</td>\n",
       "      <td>0</td>\n",
       "      <td>0</td>\n",
       "      <td>0</td>\n",
       "      <td>1</td>\n",
       "      <td>0</td>\n",
       "    </tr>\n",
       "    <tr>\n",
       "      <th>2</th>\n",
       "      <td>0</td>\n",
       "      <td>1</td>\n",
       "      <td>1</td>\n",
       "      <td>0</td>\n",
       "      <td>1</td>\n",
       "      <td>0</td>\n",
       "      <td>0</td>\n",
       "      <td>1</td>\n",
       "      <td>0</td>\n",
       "      <td>0</td>\n",
       "      <td>1</td>\n",
       "      <td>0</td>\n",
       "      <td>0</td>\n",
       "      <td>1</td>\n",
       "      <td>1</td>\n",
       "      <td>0</td>\n",
       "      <td>0</td>\n",
       "      <td>1</td>\n",
       "      <td>0</td>\n",
       "      <td>0</td>\n",
       "      <td>1</td>\n",
       "      <td>0</td>\n",
       "      <td>0</td>\n",
       "      <td>1</td>\n",
       "      <td>0</td>\n",
       "      <td>0</td>\n",
       "      <td>1</td>\n",
       "      <td>0</td>\n",
       "      <td>0</td>\n",
       "    </tr>\n",
       "    <tr>\n",
       "      <th>3</th>\n",
       "      <td>0</td>\n",
       "      <td>1</td>\n",
       "      <td>1</td>\n",
       "      <td>0</td>\n",
       "      <td>1</td>\n",
       "      <td>0</td>\n",
       "      <td>1</td>\n",
       "      <td>0</td>\n",
       "      <td>0</td>\n",
       "      <td>0</td>\n",
       "      <td>1</td>\n",
       "      <td>1</td>\n",
       "      <td>0</td>\n",
       "      <td>0</td>\n",
       "      <td>0</td>\n",
       "      <td>0</td>\n",
       "      <td>1</td>\n",
       "      <td>0</td>\n",
       "      <td>0</td>\n",
       "      <td>1</td>\n",
       "      <td>1</td>\n",
       "      <td>0</td>\n",
       "      <td>0</td>\n",
       "      <td>1</td>\n",
       "      <td>0</td>\n",
       "      <td>0</td>\n",
       "      <td>0</td>\n",
       "      <td>1</td>\n",
       "      <td>0</td>\n",
       "    </tr>\n",
       "    <tr>\n",
       "      <th>4</th>\n",
       "      <td>1</td>\n",
       "      <td>0</td>\n",
       "      <td>1</td>\n",
       "      <td>0</td>\n",
       "      <td>1</td>\n",
       "      <td>0</td>\n",
       "      <td>0</td>\n",
       "      <td>1</td>\n",
       "      <td>1</td>\n",
       "      <td>0</td>\n",
       "      <td>0</td>\n",
       "      <td>1</td>\n",
       "      <td>0</td>\n",
       "      <td>0</td>\n",
       "      <td>1</td>\n",
       "      <td>0</td>\n",
       "      <td>0</td>\n",
       "      <td>1</td>\n",
       "      <td>0</td>\n",
       "      <td>0</td>\n",
       "      <td>1</td>\n",
       "      <td>0</td>\n",
       "      <td>0</td>\n",
       "      <td>1</td>\n",
       "      <td>0</td>\n",
       "      <td>0</td>\n",
       "      <td>1</td>\n",
       "      <td>0</td>\n",
       "      <td>0</td>\n",
       "    </tr>\n",
       "  </tbody>\n",
       "</table>\n",
       "</div>"
      ],
      "text/plain": [
       "   gender_Female  gender_Male  partner_No  partner_Yes  dependents_No  \\\n",
       "0              1            0           0            1              1   \n",
       "1              0            1           1            0              1   \n",
       "2              0            1           1            0              1   \n",
       "3              0            1           1            0              1   \n",
       "4              1            0           1            0              1   \n",
       "\n",
       "   dependents_Yes  phone service_No  phone service_Yes  online security_No  \\\n",
       "0               0                 1                  0                   1   \n",
       "1               0                 0                  1                   0   \n",
       "2               0                 0                  1                   0   \n",
       "3               0                 1                  0                   0   \n",
       "4               0                 0                  1                   1   \n",
       "\n",
       "   online security_No internet service  online security_Yes  online backup_No  \\\n",
       "0                                    0                    0                 0   \n",
       "1                                    0                    1                 1   \n",
       "2                                    0                    1                 0   \n",
       "3                                    0                    1                 1   \n",
       "4                                    0                    0                 1   \n",
       "\n",
       "   online backup_No internet service  online backup_Yes  device protection_No  \\\n",
       "0                                  0                  1                     1   \n",
       "1                                  0                  0                     0   \n",
       "2                                  0                  1                     1   \n",
       "3                                  0                  0                     0   \n",
       "4                                  0                  0                     1   \n",
       "\n",
       "   device protection_No internet service  device protection_Yes  \\\n",
       "0                                      0                      0   \n",
       "1                                      0                      1   \n",
       "2                                      0                      0   \n",
       "3                                      0                      1   \n",
       "4                                      0                      0   \n",
       "\n",
       "   tech support_No  tech support_No internet service  tech support_Yes  \\\n",
       "0                1                                 0                 0   \n",
       "1                1                                 0                 0   \n",
       "2                1                                 0                 0   \n",
       "3                0                                 0                 1   \n",
       "4                1                                 0                 0   \n",
       "\n",
       "   streaming tv_No  streaming tv_No internet service  streaming tv_Yes  \\\n",
       "0                1                                 0                 0   \n",
       "1                1                                 0                 0   \n",
       "2                1                                 0                 0   \n",
       "3                1                                 0                 0   \n",
       "4                1                                 0                 0   \n",
       "\n",
       "   streaming movies_No  streaming movies_No internet service  \\\n",
       "0                    1                                     0   \n",
       "1                    1                                     0   \n",
       "2                    1                                     0   \n",
       "3                    1                                     0   \n",
       "4                    1                                     0   \n",
       "\n",
       "   streaming movies_Yes  contract_Month-to-month  contract_One year  \\\n",
       "0                     0                        1                  0   \n",
       "1                     0                        0                  1   \n",
       "2                     0                        1                  0   \n",
       "3                     0                        0                  1   \n",
       "4                     0                        1                  0   \n",
       "\n",
       "   contract_Two year  \n",
       "0                  0  \n",
       "1                  0  \n",
       "2                  0  \n",
       "3                  0  \n",
       "4                  0  "
      ]
     },
     "execution_count": 251,
     "metadata": {},
     "output_type": "execute_result"
    }
   ],
   "source": [
    "x_cat=pd.get_dummies(x_cat)\n",
    "x_cat.head()"
   ]
  },
  {
   "cell_type": "markdown",
   "metadata": {},
   "source": [
    "#### NUMERICAL"
   ]
  },
  {
   "cell_type": "code",
   "execution_count": 252,
   "metadata": {},
   "outputs": [
    {
     "name": "stdout",
     "output_type": "stream",
     "text": [
      "Distplot:  senior citizen\n"
     ]
    },
    {
     "data": {
      "image/png": "[encoded data removed]",
      "text/plain": [
       "<Figure size 432x288 with 1 Axes>"
      ]
     },
     "metadata": {
      "needs_background": "light"
     },
     "output_type": "display_data"
    },
    {
     "name": "stdout",
     "output_type": "stream",
     "text": [
      "Distplot:  tenure\n"
     ]
    },
    {
     "data": {
      "image/png": "[encoded data removed]",
      "text/plain": [
       "<Figure size 432x288 with 1 Axes>"
      ]
     },
     "metadata": {
      "needs_background": "light"
     },
     "output_type": "display_data"
    },
    {
     "name": "stdout",
     "output_type": "stream",
     "text": [
      "Distplot:  monthly charges\n"
     ]
    },
    {
     "data": {
      "image/png": "[encoded data removed]",
      "text/plain": [
       "<Figure size 432x288 with 1 Axes>"
      ]
     },
     "metadata": {
      "needs_background": "light"
     },
     "output_type": "display_data"
    },
    {
     "name": "stdout",
     "output_type": "stream",
     "text": [
      "Distplot:  total charges\n"
     ]
    },
    {
     "data": {
      "image/png": "[encoded data removed]",
      "text/plain": [
       "<Figure size 432x288 with 1 Axes>"
      ]
     },
     "metadata": {
      "needs_background": "light"
     },
     "output_type": "display_data"
    }
   ],
   "source": [
    "cols = list(x_num)\n",
    "for col in cols:\n",
    "    print(\"Distplot: \",col)\n",
    "    sns.distplot(x_num[col])\n",
    "    plt.show()"
   ]
  },
  {
   "cell_type": "code",
   "execution_count": 253,
   "metadata": {},
   "outputs": [
    {
     "data": {
      "text/html": [
       "<div>\n",
       "<style scoped>\n",
       "    .dataframe tbody tr th:only-of-type {\n",
       "        vertical-align: middle;\n",
       "    }\n",
       "\n",
       "    .dataframe tbody tr th {\n",
       "        vertical-align: top;\n",
       "    }\n",
       "\n",
       "    .dataframe thead th {\n",
       "        text-align: right;\n",
       "    }\n",
       "</style>\n",
       "<table border=\"1\" class=\"dataframe\">\n",
       "  <thead>\n",
       "    <tr style=\"text-align: right;\">\n",
       "      <th></th>\n",
       "      <th>senior citizen</th>\n",
       "      <th>tenure</th>\n",
       "      <th>monthly charges</th>\n",
       "      <th>total charges</th>\n",
       "    </tr>\n",
       "  </thead>\n",
       "  <tbody>\n",
       "    <tr>\n",
       "      <th>0</th>\n",
       "      <td>0</td>\n",
       "      <td>1</td>\n",
       "      <td>29.85</td>\n",
       "      <td>29.85</td>\n",
       "    </tr>\n",
       "    <tr>\n",
       "      <th>1</th>\n",
       "      <td>0</td>\n",
       "      <td>34</td>\n",
       "      <td>56.95</td>\n",
       "      <td>1889.50</td>\n",
       "    </tr>\n",
       "    <tr>\n",
       "      <th>2</th>\n",
       "      <td>0</td>\n",
       "      <td>2</td>\n",
       "      <td>53.85</td>\n",
       "      <td>108.15</td>\n",
       "    </tr>\n",
       "    <tr>\n",
       "      <th>3</th>\n",
       "      <td>0</td>\n",
       "      <td>45</td>\n",
       "      <td>42.30</td>\n",
       "      <td>1840.75</td>\n",
       "    </tr>\n",
       "    <tr>\n",
       "      <th>4</th>\n",
       "      <td>0</td>\n",
       "      <td>2</td>\n",
       "      <td>70.70</td>\n",
       "      <td>151.65</td>\n",
       "    </tr>\n",
       "  </tbody>\n",
       "</table>\n",
       "</div>"
      ],
      "text/plain": [
       "   senior citizen  tenure  monthly charges  total charges\n",
       "0               0       1            29.85          29.85\n",
       "1               0      34            56.95        1889.50\n",
       "2               0       2            53.85         108.15\n",
       "3               0      45            42.30        1840.75\n",
       "4               0       2            70.70         151.65"
      ]
     },
     "execution_count": 253,
     "metadata": {},
     "output_type": "execute_result"
    }
   ],
   "source": [
    "from sklearn.preprocessing import Normalizer\n",
    "\n",
    "scaler=Normalizer().fit(x_num)\n",
    "x_normalised=scaler.transform(x_num)\n",
    "x_normalised=pd.DataFrame(x_normalised)\n",
    "x_normalised.columns=x_num.columns\n",
    "x_normalised.head()"
   ]
  },
  {
   "cell_type": "code",
   "execution_count": 254,
   "metadata": {},
   "outputs": [
    {
     "name": "stdout",
     "output_type": "stream",
     "text": [
      "Distplot:  senior citizen\n"
     ]
    },
    {
     "data": {
      "image/png": "[encoded data removed]",
      "text/plain": [
       "<Figure size 432x288 with 1 Axes>"
      ]
     },
     "metadata": {
      "needs_background": "light"
     },
     "output_type": "display_data"
    },
    {
     "name": "stdout",
     "output_type": "stream",
     "text": [
      "Distplot:  tenure\n"
     ]
    },
    {
     "data": {
      "image/png": "[encoded data removed]",
      "text/plain": [
       "<Figure size 432x288 with 1 Axes>"
      ]
     },
     "metadata": {
      "needs_background": "light"
     },
     "output_type": "display_data"
    },
    {
     "name": "stdout",
     "output_type": "stream",
     "text": [
      "Distplot:  monthly charges\n"
     ]
    },
    {
     "data": {
      "image/png": "[encoded data removed]",
      "text/plain": [
       "<Figure size 432x288 with 1 Axes>"
      ]
     },
     "metadata": {
      "needs_background": "light"
     },
     "output_type": "display_data"
    },
    {
     "name": "stdout",
     "output_type": "stream",
     "text": [
      "Distplot:  total charges\n"
     ]
    },
    {
     "data": {
      "image/png": "[encoded data removed]",
      "text/plain": [
       "<Figure size 432x288 with 1 Axes>"
      ]
     },
     "metadata": {
      "needs_background": "light"
     },
     "output_type": "display_data"
    }
   ],
   "source": [
    "cols = list(x_num)\n",
    "for col in cols:\n",
    "    print(\"Distplot: \",col)\n",
    "    sns.distplot(x_normalised[col])\n",
    "    plt.show()"
   ]
  },
  {
   "cell_type": "markdown",
   "metadata": {},
   "source": [
    "#### DataFrame"
   ]
  },
  {
   "cell_type": "code",
   "execution_count": 255,
   "metadata": {},
   "outputs": [
    {
     "data": {
      "text/html": [
       "<div>\n",
       "<style scoped>\n",
       "    .dataframe tbody tr th:only-of-type {\n",
       "        vertical-align: middle;\n",
       "    }\n",
       "\n",
       "    .dataframe tbody tr th {\n",
       "        vertical-align: top;\n",
       "    }\n",
       "\n",
       "    .dataframe thead th {\n",
       "        text-align: right;\n",
       "    }\n",
       "</style>\n",
       "<table border=\"1\" class=\"dataframe\">\n",
       "  <thead>\n",
       "    <tr style=\"text-align: right;\">\n",
       "      <th></th>\n",
       "      <th>gender_Female</th>\n",
       "      <th>gender_Male</th>\n",
       "      <th>partner_No</th>\n",
       "      <th>partner_Yes</th>\n",
       "      <th>dependents_No</th>\n",
       "      <th>dependents_Yes</th>\n",
       "      <th>phone service_No</th>\n",
       "      <th>phone service_Yes</th>\n",
       "      <th>online security_No</th>\n",
       "      <th>online security_No internet service</th>\n",
       "      <th>online security_Yes</th>\n",
       "      <th>online backup_No</th>\n",
       "      <th>online backup_No internet service</th>\n",
       "      <th>online backup_Yes</th>\n",
       "      <th>device protection_No</th>\n",
       "      <th>device protection_No internet service</th>\n",
       "      <th>device protection_Yes</th>\n",
       "      <th>tech support_No</th>\n",
       "      <th>tech support_No internet service</th>\n",
       "      <th>tech support_Yes</th>\n",
       "      <th>streaming tv_No</th>\n",
       "      <th>streaming tv_No internet service</th>\n",
       "      <th>streaming tv_Yes</th>\n",
       "      <th>streaming movies_No</th>\n",
       "      <th>streaming movies_No internet service</th>\n",
       "      <th>streaming movies_Yes</th>\n",
       "      <th>contract_Month-to-month</th>\n",
       "      <th>contract_One year</th>\n",
       "      <th>contract_Two year</th>\n",
       "      <th>senior citizen</th>\n",
       "      <th>tenure</th>\n",
       "      <th>monthly charges</th>\n",
       "      <th>total charges</th>\n",
       "    </tr>\n",
       "  </thead>\n",
       "  <tbody>\n",
       "    <tr>\n",
       "      <th>0</th>\n",
       "      <td>1</td>\n",
       "      <td>0</td>\n",
       "      <td>0</td>\n",
       "      <td>1</td>\n",
       "      <td>1</td>\n",
       "      <td>0</td>\n",
       "      <td>1</td>\n",
       "      <td>0</td>\n",
       "      <td>1</td>\n",
       "      <td>0</td>\n",
       "      <td>0</td>\n",
       "      <td>0</td>\n",
       "      <td>0</td>\n",
       "      <td>1</td>\n",
       "      <td>1</td>\n",
       "      <td>0</td>\n",
       "      <td>0</td>\n",
       "      <td>1</td>\n",
       "      <td>0</td>\n",
       "      <td>0</td>\n",
       "      <td>1</td>\n",
       "      <td>0</td>\n",
       "      <td>0</td>\n",
       "      <td>1</td>\n",
       "      <td>0</td>\n",
       "      <td>0</td>\n",
       "      <td>1</td>\n",
       "      <td>0</td>\n",
       "      <td>0</td>\n",
       "      <td>0</td>\n",
       "      <td>1</td>\n",
       "      <td>29.85</td>\n",
       "      <td>29.85</td>\n",
       "    </tr>\n",
       "    <tr>\n",
       "      <th>1</th>\n",
       "      <td>0</td>\n",
       "      <td>1</td>\n",
       "      <td>1</td>\n",
       "      <td>0</td>\n",
       "      <td>1</td>\n",
       "      <td>0</td>\n",
       "      <td>0</td>\n",
       "      <td>1</td>\n",
       "      <td>0</td>\n",
       "      <td>0</td>\n",
       "      <td>1</td>\n",
       "      <td>1</td>\n",
       "      <td>0</td>\n",
       "      <td>0</td>\n",
       "      <td>0</td>\n",
       "      <td>0</td>\n",
       "      <td>1</td>\n",
       "      <td>1</td>\n",
       "      <td>0</td>\n",
       "      <td>0</td>\n",
       "      <td>1</td>\n",
       "      <td>0</td>\n",
       "      <td>0</td>\n",
       "      <td>1</td>\n",
       "      <td>0</td>\n",
       "      <td>0</td>\n",
       "      <td>0</td>\n",
       "      <td>1</td>\n",
       "      <td>0</td>\n",
       "      <td>0</td>\n",
       "      <td>34</td>\n",
       "      <td>56.95</td>\n",
       "      <td>1889.50</td>\n",
       "    </tr>\n",
       "    <tr>\n",
       "      <th>2</th>\n",
       "      <td>0</td>\n",
       "      <td>1</td>\n",
       "      <td>1</td>\n",
       "      <td>0</td>\n",
       "      <td>1</td>\n",
       "      <td>0</td>\n",
       "      <td>0</td>\n",
       "      <td>1</td>\n",
       "      <td>0</td>\n",
       "      <td>0</td>\n",
       "      <td>1</td>\n",
       "      <td>0</td>\n",
       "      <td>0</td>\n",
       "      <td>1</td>\n",
       "      <td>1</td>\n",
       "      <td>0</td>\n",
       "      <td>0</td>\n",
       "      <td>1</td>\n",
       "      <td>0</td>\n",
       "      <td>0</td>\n",
       "      <td>1</td>\n",
       "      <td>0</td>\n",
       "      <td>0</td>\n",
       "      <td>1</td>\n",
       "      <td>0</td>\n",
       "      <td>0</td>\n",
       "      <td>1</td>\n",
       "      <td>0</td>\n",
       "      <td>0</td>\n",
       "      <td>0</td>\n",
       "      <td>2</td>\n",
       "      <td>53.85</td>\n",
       "      <td>108.15</td>\n",
       "    </tr>\n",
       "    <tr>\n",
       "      <th>3</th>\n",
       "      <td>0</td>\n",
       "      <td>1</td>\n",
       "      <td>1</td>\n",
       "      <td>0</td>\n",
       "      <td>1</td>\n",
       "      <td>0</td>\n",
       "      <td>1</td>\n",
       "      <td>0</td>\n",
       "      <td>0</td>\n",
       "      <td>0</td>\n",
       "      <td>1</td>\n",
       "      <td>1</td>\n",
       "      <td>0</td>\n",
       "      <td>0</td>\n",
       "      <td>0</td>\n",
       "      <td>0</td>\n",
       "      <td>1</td>\n",
       "      <td>0</td>\n",
       "      <td>0</td>\n",
       "      <td>1</td>\n",
       "      <td>1</td>\n",
       "      <td>0</td>\n",
       "      <td>0</td>\n",
       "      <td>1</td>\n",
       "      <td>0</td>\n",
       "      <td>0</td>\n",
       "      <td>0</td>\n",
       "      <td>1</td>\n",
       "      <td>0</td>\n",
       "      <td>0</td>\n",
       "      <td>45</td>\n",
       "      <td>42.30</td>\n",
       "      <td>1840.75</td>\n",
       "    </tr>\n",
       "    <tr>\n",
       "      <th>4</th>\n",
       "      <td>1</td>\n",
       "      <td>0</td>\n",
       "      <td>1</td>\n",
       "      <td>0</td>\n",
       "      <td>1</td>\n",
       "      <td>0</td>\n",
       "      <td>0</td>\n",
       "      <td>1</td>\n",
       "      <td>1</td>\n",
       "      <td>0</td>\n",
       "      <td>0</td>\n",
       "      <td>1</td>\n",
       "      <td>0</td>\n",
       "      <td>0</td>\n",
       "      <td>1</td>\n",
       "      <td>0</td>\n",
       "      <td>0</td>\n",
       "      <td>1</td>\n",
       "      <td>0</td>\n",
       "      <td>0</td>\n",
       "      <td>1</td>\n",
       "      <td>0</td>\n",
       "      <td>0</td>\n",
       "      <td>1</td>\n",
       "      <td>0</td>\n",
       "      <td>0</td>\n",
       "      <td>1</td>\n",
       "      <td>0</td>\n",
       "      <td>0</td>\n",
       "      <td>0</td>\n",
       "      <td>2</td>\n",
       "      <td>70.70</td>\n",
       "      <td>151.65</td>\n",
       "    </tr>\n",
       "  </tbody>\n",
       "</table>\n",
       "</div>"
      ],
      "text/plain": [
       "   gender_Female  gender_Male  partner_No  partner_Yes  dependents_No  \\\n",
       "0              1            0           0            1              1   \n",
       "1              0            1           1            0              1   \n",
       "2              0            1           1            0              1   \n",
       "3              0            1           1            0              1   \n",
       "4              1            0           1            0              1   \n",
       "\n",
       "   dependents_Yes  phone service_No  phone service_Yes  online security_No  \\\n",
       "0               0                 1                  0                   1   \n",
       "1               0                 0                  1                   0   \n",
       "2               0                 0                  1                   0   \n",
       "3               0                 1                  0                   0   \n",
       "4               0                 0                  1                   1   \n",
       "\n",
       "   online security_No internet service  online security_Yes  online backup_No  \\\n",
       "0                                    0                    0                 0   \n",
       "1                                    0                    1                 1   \n",
       "2                                    0                    1                 0   \n",
       "3                                    0                    1                 1   \n",
       "4                                    0                    0                 1   \n",
       "\n",
       "   online backup_No internet service  online backup_Yes  device protection_No  \\\n",
       "0                                  0                  1                     1   \n",
       "1                                  0                  0                     0   \n",
       "2                                  0                  1                     1   \n",
       "3                                  0                  0                     0   \n",
       "4                                  0                  0                     1   \n",
       "\n",
       "   device protection_No internet service  device protection_Yes  \\\n",
       "0                                      0                      0   \n",
       "1                                      0                      1   \n",
       "2                                      0                      0   \n",
       "3                                      0                      1   \n",
       "4                                      0                      0   \n",
       "\n",
       "   tech support_No  tech support_No internet service  tech support_Yes  \\\n",
       "0                1                                 0                 0   \n",
       "1                1                                 0                 0   \n",
       "2                1                                 0                 0   \n",
       "3                0                                 0                 1   \n",
       "4                1                                 0                 0   \n",
       "\n",
       "   streaming tv_No  streaming tv_No internet service  streaming tv_Yes  \\\n",
       "0                1                                 0                 0   \n",
       "1                1                                 0                 0   \n",
       "2                1                                 0                 0   \n",
       "3                1                                 0                 0   \n",
       "4                1                                 0                 0   \n",
       "\n",
       "   streaming movies_No  streaming movies_No internet service  \\\n",
       "0                    1                                     0   \n",
       "1                    1                                     0   \n",
       "2                    1                                     0   \n",
       "3                    1                                     0   \n",
       "4                    1                                     0   \n",
       "\n",
       "   streaming movies_Yes  contract_Month-to-month  contract_One year  \\\n",
       "0                     0                        1                  0   \n",
       "1                     0                        0                  1   \n",
       "2                     0                        1                  0   \n",
       "3                     0                        0                  1   \n",
       "4                     0                        1                  0   \n",
       "\n",
       "   contract_Two year  senior citizen  tenure  monthly charges  total charges  \n",
       "0                  0               0       1            29.85          29.85  \n",
       "1                  0               0      34            56.95        1889.50  \n",
       "2                  0               0       2            53.85         108.15  \n",
       "3                  0               0      45            42.30        1840.75  \n",
       "4                  0               0       2            70.70         151.65  "
      ]
     },
     "execution_count": 255,
     "metadata": {},
     "output_type": "execute_result"
    }
   ],
   "source": [
    "X=pd.concat([x_cat,x_normalised],axis=1)\n",
    "X.head()"
   ]
  },
  {
   "cell_type": "markdown",
   "metadata": {},
   "source": [
    "### THE MODEL"
   ]
  },
  {
   "cell_type": "code",
   "execution_count": 256,
   "metadata": {},
   "outputs": [
    {
     "name": "stdout",
     "output_type": "stream",
     "text": [
      "y value counts:\n",
      "No     5174\n",
      "Yes    1869\n",
      "Name: churn, dtype: int64\n",
      "\n",
      "The accuracy of the model on test set is: 0.80 \n"
     ]
    },
    {
     "data": {
      "image/png": "[encoded data removed]",
      "text/plain": [
       "<Figure size 432x288 with 2 Axes>"
      ]
     },
     "metadata": {
      "needs_background": "light"
     },
     "output_type": "display_data"
    },
    {
     "name": "stdout",
     "output_type": "stream",
     "text": [
      "Cohen Kappa score: 0.4777661961616533\n",
      "\n",
      "Classification Report:\n",
      "              precision    recall  f1-score   support\n",
      "\n",
      "         Yes       0.68      0.55      0.61       388\n",
      "          No       0.84      0.90      0.87      1021\n",
      "\n",
      "    accuracy                           0.80      1409\n",
      "   macro avg       0.76      0.73      0.74      1409\n",
      "weighted avg       0.80      0.80      0.80      1409\n",
      "\n"
     ]
    }
   ],
   "source": [
    "from sklearn.model_selection import train_test_split\n",
    "x_train, x_test, y_train, y_test = train_test_split(X, y, test_size=0.2, random_state=250)\n",
    "from sklearn.linear_model import LogisticRegression\n",
    "classification = LogisticRegression(random_state=0, solver='lbfgs',\n",
    "                  multi_class='ovr', max_iter=500).fit(x_train, y_train)\n",
    "from sklearn.metrics import accuracy_score\n",
    "predictions = classification.predict(x_test)\n",
    "\n",
    "print(\"y value counts:\")\n",
    "print(y.value_counts())\n",
    "print(\n",
    ")\n",
    "\n",
    "from sklearn.metrics import confusion_matrix\n",
    "from sklearn.metrics import plot_confusion_matrix\n",
    "print(\"The accuracy of the model on test set is: %4.2f \" % accuracy_score(y_test, predictions))\n",
    "confusion_matrix(y_test, predictions)\n",
    "plot_confusion_matrix(classification, x_test, y_test)  # doctest: +SKIP\n",
    "plt.show()  # doctest: +SKIP\n",
    "\n",
    "from sklearn.metrics import cohen_kappa_score\n",
    "print('Cohen Kappa score:',cohen_kappa_score(y_test, predictions))\n",
    "print(\n",
    ")\n",
    "\n",
    "from sklearn.metrics import classification_report\n",
    "print(\"Classification Report:\")\n",
    "print(classification_report(y_test, predictions\n",
    "                        , labels=['Yes','No']))"
   ]
  },
  {
   "cell_type": "markdown",
   "metadata": {},
   "source": [
    "### 4. Managing imbalance in the dataset\n",
    "\n",
    "- Check for the imbalance.\n",
    "- Use the resampling strategies used in class for upsampling and downsampling to create a balance between the two classes.\n",
    "- Each time fit the model and see how the accuracy of the model is."
   ]
  },
  {
   "cell_type": "code",
   "execution_count": 257,
   "metadata": {},
   "outputs": [
    {
     "data": {
      "text/plain": [
       "0     No\n",
       "1     No\n",
       "2    Yes\n",
       "3     No\n",
       "4    Yes\n",
       "Name: churn, dtype: object"
      ]
     },
     "execution_count": 257,
     "metadata": {},
     "output_type": "execute_result"
    }
   ],
   "source": [
    "y.columns=[\"churn\"]\n",
    "y.head()"
   ]
  },
  {
   "cell_type": "markdown",
   "metadata": {
    "id": "cqwG44OkDZSw"
   },
   "source": [
    "## Downsampling"
   ]
  },
  {
   "cell_type": "code",
   "execution_count": 300,
   "metadata": {
    "colab": {
     "base_uri": "https://localhost:8080/"
    },
    "executionInfo": {
     "elapsed": 1408,
     "status": "ok",
     "timestamp": 1605647775499,
     "user": {
      "displayName": "Ignacio Soteras",
      "photoUrl": "",
      "userId": "02050793736257155229"
     },
     "user_tz": -60
    },
    "id": "IueSkAJRDYfY",
    "outputId": "528d6598-3abe-4e8f-948d-4466e0e6ec8a"
   },
   "outputs": [
    {
     "name": "stdout",
     "output_type": "stream",
     "text": [
      "(1869, 34)\n",
      "(1869, 34)\n"
     ]
    }
   ],
   "source": [
    "data = pd.concat([X,y],axis=1)\n",
    "\n",
    "category_0 = data[data['churn'] == \"Yes\"]\n",
    "category_1 = data[data['churn'] == \"No\"]\n",
    "\n",
    "# We pick a random sample of rows from of observations belonging to \"category_0\"\n",
    "# in the same amount of observations belonging to \"category_1\"\n",
    "category_1 = category_0.sample(len(category_0))\n",
    "print(category_0.shape)\n",
    "print(category_1.shape)\n",
    "\n",
    "category_1=category_1.replace(\"Yes\",\"No\")"
   ]
  },
  {
   "cell_type": "code",
   "execution_count": 301,
   "metadata": {},
   "outputs": [],
   "source": [
    "data_down = pd.concat([category_0, category_1], axis=0)\n",
    "y_down=data_down[\"churn\"]\n",
    "X_down=data_down.drop(\"churn\",axis=1)"
   ]
  },
  {
   "cell_type": "code",
   "execution_count": 302,
   "metadata": {},
   "outputs": [
    {
     "name": "stdout",
     "output_type": "stream",
     "text": [
      "y value counts:\n",
      "No     1869\n",
      "Yes    1869\n",
      "Name: churn, dtype: int64\n",
      "\n",
      "The accuracy of the model on test set is: 0.43 \n"
     ]
    },
    {
     "data": {
      "image/png": "[encoded data removed]",
      "text/plain": [
       "<Figure size 432x288 with 2 Axes>"
      ]
     },
     "metadata": {
      "needs_background": "light"
     },
     "output_type": "display_data"
    },
    {
     "name": "stdout",
     "output_type": "stream",
     "text": [
      "Cohen Kappa score: -0.140504484945438\n",
      "\n",
      "Classification Report:\n",
      "              precision    recall  f1-score   support\n",
      "\n",
      "         Yes       0.43      0.38      0.40       378\n",
      "          No       0.43      0.48      0.45       370\n",
      "\n",
      "    accuracy                           0.43       748\n",
      "   macro avg       0.43      0.43      0.43       748\n",
      "weighted avg       0.43      0.43      0.43       748\n",
      "\n"
     ]
    }
   ],
   "source": [
    "from sklearn.model_selection import train_test_split\n",
    "x_train, x_test, y_train, y_test = train_test_split(X_down, y_down, test_size=0.2, random_state=250)\n",
    "from sklearn.linear_model import LogisticRegression\n",
    "classification = LogisticRegression(random_state=0, solver='lbfgs',\n",
    "                  multi_class='ovr', max_iter=500).fit(x_train, y_train)\n",
    "from sklearn.metrics import accuracy_score\n",
    "predictions = classification.predict(x_test)\n",
    "\n",
    "print(\"y value counts:\")\n",
    "print(y_down.value_counts())\n",
    "print(\n",
    ")\n",
    "\n",
    "from sklearn.metrics import confusion_matrix\n",
    "from sklearn.metrics import plot_confusion_matrix\n",
    "print(\"The accuracy of the model on test set is: %4.2f \" % accuracy_score(y_test, predictions))\n",
    "confusion_matrix(y_test, predictions)\n",
    "plot_confusion_matrix(classification, x_test, y_test)  # doctest: +SKIP\n",
    "plt.show()  # doctest: +SKIP\n",
    "\n",
    "from sklearn.metrics import cohen_kappa_score\n",
    "print('Cohen Kappa score:',cohen_kappa_score(y_test, predictions))\n",
    "print(\n",
    ")\n",
    "\n",
    "from sklearn.metrics import classification_report\n",
    "print(\"Classification Report:\")\n",
    "print(classification_report(y_test, predictions\n",
    "                        , labels=['Yes','No']))"
   ]
  },
  {
   "cell_type": "markdown",
   "metadata": {
    "id": "5zXWS6DJEtwH"
   },
   "source": [
    "# Upsampling"
   ]
  },
  {
   "cell_type": "code",
   "execution_count": 305,
   "metadata": {
    "colab": {
     "base_uri": "https://localhost:8080/"
    },
    "executionInfo": {
     "elapsed": 583,
     "status": "ok",
     "timestamp": 1605648001502,
     "user": {
      "displayName": "Ignacio Soteras",
      "photoUrl": "",
      "userId": "02050793736257155229"
     },
     "user_tz": -60
    },
    "id": "9cy9pk6oEv7Y",
    "outputId": "504041f0-6e67-4ac6-d582-a5e7a3a745ac"
   },
   "outputs": [
    {
     "name": "stdout",
     "output_type": "stream",
     "text": [
      "(1869, 34)\n",
      "(1869, 34)\n"
     ]
    }
   ],
   "source": [
    "data = pd.concat([X,y],axis=1)\n",
    "\n",
    "category_0 = data[data['churn'] == \"Yes\"]\n",
    "category_1 = data[data['churn'] == \"No\"]\n",
    "\n",
    "# We pick a random sample of rows from of observations belonging to \"category_0\"\n",
    "# in the same amount of observations belonging to \"category_1\"\n",
    "category_1 = category_1.sample(len(category_0))\n",
    "category_1=category_1.replace(\"Yes\",\"No\")\n",
    "print(category_0.shape)\n",
    "print(category_1.shape)\n",
    "\n",
    "data_up = pd.concat([category_0, category_1], axis=0)\n",
    "y_up=data_up[\"churn\"]\n",
    "X_up=data_up.drop(\"churn\",axis=1)\n"
   ]
  },
  {
   "cell_type": "code",
   "execution_count": 306,
   "metadata": {},
   "outputs": [
    {
     "name": "stdout",
     "output_type": "stream",
     "text": [
      "y value counts:\n",
      "No     1869\n",
      "Yes    1869\n",
      "Name: churn, dtype: int64\n",
      "\n",
      "The accuracy of the model on test set is: 0.80 \n"
     ]
    },
    {
     "data": {
      "image/png": "[encoded data removed]",
      "text/plain": [
       "<Figure size 432x288 with 2 Axes>"
      ]
     },
     "metadata": {
      "needs_background": "light"
     },
     "output_type": "display_data"
    },
    {
     "name": "stdout",
     "output_type": "stream",
     "text": [
      "Cohen Kappa score: 0.5905461102524472\n",
      "\n",
      "Classification Report:\n",
      "              precision    recall  f1-score   support\n",
      "\n",
      "         Yes       0.78      0.83      0.80       378\n",
      "          No       0.82      0.76      0.79       370\n",
      "\n",
      "    accuracy                           0.80       748\n",
      "   macro avg       0.80      0.80      0.80       748\n",
      "weighted avg       0.80      0.80      0.80       748\n",
      "\n"
     ]
    }
   ],
   "source": [
    "from sklearn.model_selection import train_test_split\n",
    "x_train, x_test, y_train, y_test = train_test_split(X_up, y_up, test_size=0.2, random_state=250)\n",
    "from sklearn.linear_model import LogisticRegression\n",
    "classification = LogisticRegression(random_state=0, solver='lbfgs',\n",
    "                  multi_class='ovr', max_iter=500).fit(x_train, y_train)\n",
    "from sklearn.metrics import accuracy_score\n",
    "predictions = classification.predict(x_test)\n",
    "\n",
    "print(\"y value counts:\")\n",
    "print(y_up.value_counts())\n",
    "print(\n",
    ")\n",
    "\n",
    "from sklearn.metrics import confusion_matrix\n",
    "from sklearn.metrics import plot_confusion_matrix\n",
    "print(\"The accuracy of the model on test set is: %4.2f \" % accuracy_score(y_test, predictions))\n",
    "confusion_matrix(y_test, predictions)\n",
    "plot_confusion_matrix(classification, x_test, y_test)  # doctest: +SKIP\n",
    "plt.show()  # doctest: +SKIP\n",
    "\n",
    "from sklearn.metrics import cohen_kappa_score\n",
    "print('Cohen Kappa score:',cohen_kappa_score(y_test, predictions))\n",
    "print(\n",
    ")\n",
    "\n",
    "from sklearn.metrics import classification_report\n",
    "print(\"Classification Report:\")\n",
    "print(classification_report(y_test, predictions\n",
    "                        , labels=['Yes','No']))"
   ]
  },
  {
   "cell_type": "markdown",
   "metadata": {
    "id": "-3qH-fMBHHEy"
   },
   "source": [
    "## SMOTE"
   ]
  },
  {
   "cell_type": "code",
   "execution_count": 258,
   "metadata": {
    "colab": {
     "base_uri": "https://localhost:8080/"
    },
    "executionInfo": {
     "elapsed": 3080,
     "status": "ok",
     "timestamp": 1605648978790,
     "user": {
      "displayName": "Ignacio Soteras",
      "photoUrl": "",
      "userId": "02050793736257155229"
     },
     "user_tz": -60
    },
    "id": "9sppUftRHFb7",
    "outputId": "eb3e77a0-16c3-415b-8162-563e142d1c9d"
   },
   "outputs": [
    {
     "name": "stdout",
     "output_type": "stream",
     "text": [
      "[['No' 5174]\n",
      " ['Yes' 5174]]\n"
     ]
    }
   ],
   "source": [
    "from imblearn.over_sampling import SMOTE\n",
    "\n",
    "# SMOTE only can handle numerical features. Therefore, if we want to use categoricals they \n",
    "# will need to be dummyfied. However, for sake of simplicity we will not include the categoricals.\n",
    "\n",
    "data = pd.concat([X,y],axis=1)\n",
    "smote = SMOTE()\n",
    "y = data['churn']\n",
    "X = data.drop(['churn'], axis=1)\n",
    "X_sm, y_sm = smote.fit_sample(X, y)\n",
    "\n",
    "unique, counts = np.unique(y_sm, return_counts=True)\n",
    "print(np.asarray((unique, counts)).T)"
   ]
  },
  {
   "cell_type": "code",
   "execution_count": 264,
   "metadata": {},
   "outputs": [
    {
     "name": "stdout",
     "output_type": "stream",
     "text": [
      "y value counts:\n",
      "No     5174\n",
      "Yes    5174\n",
      "Name: churn, dtype: int64\n",
      "\n",
      "The accuracy of the model on test set is: 0.85 \n"
     ]
    },
    {
     "data": {
      "image/png": "[encoded data removed]",
      "text/plain": [
       "<Figure size 432x288 with 2 Axes>"
      ]
     },
     "metadata": {
      "needs_background": "light"
     },
     "output_type": "display_data"
    },
    {
     "name": "stdout",
     "output_type": "stream",
     "text": [
      "Cohen Kappa score: 0.7090864098385914\n",
      "\n",
      "Classification Report:\n",
      "              precision    recall  f1-score   support\n",
      "\n",
      "         Yes       0.85      0.85      0.85      1018\n",
      "          No       0.86      0.86      0.86      1052\n",
      "\n",
      "    accuracy                           0.85      2070\n",
      "   macro avg       0.85      0.85      0.85      2070\n",
      "weighted avg       0.85      0.85      0.85      2070\n",
      "\n"
     ]
    }
   ],
   "source": [
    "from sklearn.model_selection import train_test_split\n",
    "x_train, x_test, y_train, y_test = train_test_split(X_sm, y_sm, test_size=0.2, random_state=250)\n",
    "from sklearn.linear_model import LogisticRegression\n",
    "classification = LogisticRegression(random_state=0, solver='lbfgs',\n",
    "                  multi_class='ovr', max_iter=500).fit(x_train, y_train)\n",
    "from sklearn.metrics import accuracy_score\n",
    "predictions = classification.predict(x_test)\n",
    "\n",
    "print(\"y value counts:\")\n",
    "print(y_sm.value_counts())\n",
    "print(\n",
    ")\n",
    "\n",
    "from sklearn.metrics import confusion_matrix\n",
    "from sklearn.metrics import plot_confusion_matrix\n",
    "print(\"The accuracy of the model on test set is: %4.2f \" % accuracy_score(y_test, predictions))\n",
    "confusion_matrix(y_test, predictions)\n",
    "plot_confusion_matrix(classification, x_test, y_test)  # doctest: +SKIP\n",
    "plt.show()  # doctest: +SKIP\n",
    "\n",
    "from sklearn.metrics import cohen_kappa_score\n",
    "print('Cohen Kappa score:',cohen_kappa_score(y_test, predictions))\n",
    "print(\n",
    ")\n",
    "\n",
    "from sklearn.metrics import classification_report\n",
    "print(\"Classification Report:\")\n",
    "print(classification_report(y_test, predictions\n",
    "                        , labels=['Yes','No']))"
   ]
  },
  {
   "cell_type": "markdown",
   "metadata": {
    "id": "PRQk3DWII4UV"
   },
   "source": [
    "## Tomek's Links"
   ]
  },
  {
   "cell_type": "code",
   "execution_count": 261,
   "metadata": {
    "colab": {
     "base_uri": "https://localhost:8080/"
    },
    "executionInfo": {
     "elapsed": 51514,
     "status": "ok",
     "timestamp": 1605649178679,
     "user": {
      "displayName": "Ignacio Soteras",
      "photoUrl": "",
      "userId": "02050793736257155229"
     },
     "user_tz": -60
    },
    "id": "4SnG8k0aI7FZ",
    "outputId": "57127de3-a8b3-43cd-bd51-ee85cf591c02"
   },
   "outputs": [
    {
     "name": "stdout",
     "output_type": "stream",
     "text": [
      "[['No' 4609]\n",
      " ['Yes' 1869]]\n"
     ]
    }
   ],
   "source": [
    "from imblearn.under_sampling import TomekLinks\n",
    "\n",
    "tl = TomekLinks('majority')\n",
    "X_tl, y_tl = tl.fit_sample(X, y)\n",
    "\n",
    "unique, counts = np.unique(y_tl, return_counts=True)\n",
    "print(np.asarray((unique, counts)).T)"
   ]
  },
  {
   "cell_type": "code",
   "execution_count": 263,
   "metadata": {},
   "outputs": [
    {
     "name": "stdout",
     "output_type": "stream",
     "text": [
      "y value counts:\n",
      "No     4609\n",
      "Yes    1869\n",
      "Name: churn, dtype: int64\n",
      "\n",
      "The accuracy of the model on test set is: 0.82 \n"
     ]
    },
    {
     "data": {
      "image/png": "[encoded data removed]",
      "text/plain": [
       "<Figure size 432x288 with 2 Axes>"
      ]
     },
     "metadata": {
      "needs_background": "light"
     },
     "output_type": "display_data"
    },
    {
     "name": "stdout",
     "output_type": "stream",
     "text": [
      "Cohen Kappa score: 0.5365907099035934\n",
      "\n",
      "Classification Report:\n",
      "              precision    recall  f1-score   support\n",
      "\n",
      "         Yes       0.69      0.63      0.66       360\n",
      "          No       0.86      0.89      0.88       936\n",
      "\n",
      "    accuracy                           0.82      1296\n",
      "   macro avg       0.78      0.76      0.77      1296\n",
      "weighted avg       0.81      0.82      0.82      1296\n",
      "\n"
     ]
    }
   ],
   "source": [
    "from sklearn.model_selection import train_test_split\n",
    "x_train, x_test, y_train, y_test = train_test_split(X_tl, y_tl, test_size=0.2, random_state=250)\n",
    "from sklearn.linear_model import LogisticRegression\n",
    "classification = LogisticRegression(random_state=0, solver='lbfgs',\n",
    "                  multi_class='ovr', max_iter=500).fit(x_train, y_train)\n",
    "from sklearn.metrics import accuracy_score\n",
    "predictions = classification.predict(x_test)\n",
    "\n",
    "print(\"y value counts:\")\n",
    "print(y_tl.value_counts())\n",
    "print(\n",
    ")\n",
    "\n",
    "from sklearn.metrics import confusion_matrix\n",
    "from sklearn.metrics import plot_confusion_matrix\n",
    "print(\"The accuracy of the model on test set is: %4.2f \" % accuracy_score(y_test, predictions))\n",
    "confusion_matrix(y_test, predictions)\n",
    "plot_confusion_matrix(classification, x_test, y_test)  # doctest: +SKIP\n",
    "plt.show()  # doctest: +SKIP\n",
    "\n",
    "from sklearn.metrics import cohen_kappa_score\n",
    "print('Cohen Kappa score:',cohen_kappa_score(y_test, predictions))\n",
    "print(\n",
    ")\n",
    "\n",
    "from sklearn.metrics import classification_report\n",
    "print(\"Classification Report:\")\n",
    "print(classification_report(y_test, predictions\n",
    "                        , labels=['Yes','No']))"
   ]
  }
 ],
 "metadata": {
  "colab": {
   "authorship_tag": "ABX9TyMPxHeAn/y9Ih98ne2Gabpu",
   "name": "Afternoon.ipynb",
   "provenance": [],
   "toc_visible": true
  },
  "kernelspec": {
   "display_name": "Python 3",
   "language": "python",
   "name": "python3"
  },
  "language_info": {
   "codemirror_mode": {
    "name": "ipython",
    "version": 3
   },
   "file_extension": ".py",
   "mimetype": "text/x-python",
   "name": "python",
   "nbconvert_exporter": "python",
   "pygments_lexer": "ipython3",
   "version": "3.8.3"
  }
 },
 "nbformat": 4,
 "nbformat_minor": 1
}
